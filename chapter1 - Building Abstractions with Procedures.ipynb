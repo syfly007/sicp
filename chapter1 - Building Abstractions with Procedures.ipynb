{
 "cells": [
  {
   "cell_type": "markdown",
   "metadata": {},
   "source": [
    "\n",
    "# Building Abstractions with Procedure"
   ]
  },
  {
   "cell_type": "markdown",
   "metadata": {},
   "source": [
    "心智的活动，除了尽力产生各种简单的认识之外，主要表现在如下三个方面：\n",
    "- 1) 将若干简单认识组合为一个复合认识，由此产生出各种复杂的认识。\n",
    "- 2) 将两个认识放在一起对照，不管它们如何简单或者复杂，在这样做时并不将它们合而为一。由此得到有关它们的相互关系的认识。\n",
    "- 3) 将有关认识与那些在实际中和它们同在的所有其他认识隔离开.\n",
    "\n",
    "这就是抽象，所有具有普遍性的认识都是这样得到的。\n",
    "\n",
    "--John Locke(有关人类理解的随笔，1890)"
   ]
  },
  {
   "cell_type": "markdown",
   "metadata": {},
   "source": [
    "计算过程 - computational process"
   ]
  },
  {
   "cell_type": "markdown",
   "metadata": {},
   "source": [
    "The first Lisp interpreter was implemented by McCarthy with the help of colleagues and students in the Artificial Intelligence Group of the Research Laboratory of Electronics and in the Computation Center."
   ]
  },
  {
   "cell_type": "markdown",
   "metadata": {},
   "source": [
    "**Lisp**, whose name is an acronym for LISt Processing, was designed to provide symbol manipulating capabilities for attacking programming problems such as the symbolic differentiation and integration of algebraic expressions"
   ]
  },
  {
   "cell_type": "code",
   "execution_count": 158,
   "metadata": {},
   "outputs": [
    {
     "name": "stderr",
     "output_type": "stream",
     "text": [
      "\u001b[0;31m\n",
      "Traceback (most recent call last):\n",
      "  File \"In [158]\", line 1, col 1, in '+'\n",
      "  File \"In [157]\", line 8, col 11\n",
      "RunTimeError: unbound variable 'dec'\n",
      "\n",
      "\u001b[0m"
     ]
    }
   ],
   "source": [
    "(+ 1 1)"
   ]
  },
  {
   "cell_type": "markdown",
   "metadata": {},
   "source": [
    "## The Elements of Programming"
   ]
  },
  {
   "cell_type": "markdown",
   "metadata": {},
   "source": [
    "**好的编程语言要素**\n",
    "- 简单的表达式\n",
    "- 组合的方法\n",
    "- 抽象的方法"
   ]
  },
  {
   "cell_type": "markdown",
   "metadata": {},
   "source": [
    "**程序设计的2要素**\n",
    "- 过程\n",
    "- 数据"
   ]
  },
  {
   "cell_type": "markdown",
   "metadata": {},
   "source": [
    "### Expressions"
   ]
  },
  {
   "cell_type": "code",
   "execution_count": 159,
   "metadata": {},
   "outputs": [
    {
     "data": {
      "text/plain": [
       "222"
      ]
     },
     "execution_count": 159,
     "metadata": {},
     "output_type": "execute_result"
    }
   ],
   "source": [
    "222"
   ]
  },
  {
   "cell_type": "code",
   "execution_count": 160,
   "metadata": {},
   "outputs": [
    {
     "name": "stderr",
     "output_type": "stream",
     "text": [
      "\u001b[0;31m\n",
      "Traceback (most recent call last):\n",
      "  File \"In [160]\", line 1, col 1, in '+'\n",
      "  File \"In [157]\", line 8, col 11\n",
      "RunTimeError: unbound variable 'dec'\n",
      "\n",
      "\u001b[0m"
     ]
    }
   ],
   "source": [
    "(+ 2 2)"
   ]
  },
  {
   "cell_type": "markdown",
   "metadata": {},
   "source": [
    "括号内最左边的元素：**operator**\n",
    "\n",
    "前缀表示法 - prefix notation\n",
    "\n",
    "优势：\n",
    "- 可以放入不定数量的参数\n",
    "- 可以组合嵌套"
   ]
  },
  {
   "cell_type": "code",
   "execution_count": null,
   "metadata": {},
   "outputs": [],
   "source": [
    "(+ 3 4 5 6)"
   ]
  },
  {
   "cell_type": "code",
   "execution_count": null,
   "metadata": {},
   "outputs": [],
   "source": [
    "(+ (/ 4 5) (* 2 7))"
   ]
  },
  {
   "cell_type": "markdown",
   "metadata": {},
   "source": [
    "### Naming and the Environment"
   ]
  },
  {
   "cell_type": "markdown",
   "metadata": {},
   "source": [
    "**变量**"
   ]
  },
  {
   "cell_type": "code",
   "execution_count": null,
   "metadata": {
    "collapsed": true
   },
   "outputs": [],
   "source": [
    "(define size 2)"
   ]
  },
  {
   "cell_type": "code",
   "execution_count": null,
   "metadata": {},
   "outputs": [],
   "source": [
    "size"
   ]
  },
  {
   "cell_type": "code",
   "execution_count": null,
   "metadata": {},
   "outputs": [],
   "source": [
    "(define pi 3.14159)\n",
    "(define radius 10)\n",
    "(* pi (* radius radius))"
   ]
  },
  {
   "cell_type": "code",
   "execution_count": null,
   "metadata": {},
   "outputs": [],
   "source": [
    "(define circumference (* 2 pi radius))\n",
    "circumference"
   ]
  },
  {
   "cell_type": "markdown",
   "metadata": {},
   "source": [
    "define 是 lisp 中最简单的抽象\n",
    "\n",
    "environment:保存所有的name-object pairs"
   ]
  },
  {
   "cell_type": "markdown",
   "metadata": {},
   "source": [
    "### Evaluating Combinations"
   ]
  },
  {
   "cell_type": "markdown",
   "metadata": {},
   "source": [
    "To evaluate a combination, do the following: \n",
    "- Evaluate the subexpressions of the combination.\n",
    "- Apply the procedure that is the value of the left most subexpression (the operator) to the arguments that are the values of the other subexpressions (the operands)."
   ]
  },
  {
   "cell_type": "markdown",
   "metadata": {},
   "source": [
    "**递归 recursive**：自己调用自己，非常适合解析层级和树形结构"
   ]
  },
  {
   "cell_type": "markdown",
   "metadata": {},
   "source": [
    "处理规则：\n",
    "\n",
    "- the values of numerals are the numbers that they name, \n",
    "- the values of built-in operators are the machine instruction se- quences that carry out the corresponding operations, and \n",
    "- the values of other names are the objects associated with those names in the environment."
   ]
  },
  {
   "cell_type": "markdown",
   "metadata": {},
   "source": [
    "### Compounds Procedures - 复合过程"
   ]
  },
  {
   "cell_type": "markdown",
   "metadata": {},
   "source": [
    "更强大的抽象：**procedure definitions**"
   ]
  },
  {
   "cell_type": "code",
   "execution_count": null,
   "metadata": {
    "collapsed": true
   },
   "outputs": [],
   "source": [
    "(define (square x) (* x x))"
   ]
  },
  {
   "cell_type": "code",
   "execution_count": null,
   "metadata": {},
   "outputs": [],
   "source": [
    "(square 3)"
   ]
  },
  {
   "cell_type": "markdown",
   "metadata": {},
   "source": [
    "general form:\n",
    "\n",
    "(define (⟨name⟩ ⟨formal parameters⟩) ⟨body⟩)"
   ]
  },
  {
   "cell_type": "code",
   "execution_count": null,
   "metadata": {
    "collapsed": true
   },
   "outputs": [],
   "source": [
    "(define (sum-of-squares x y) \n",
    "  (+ (square x) \n",
    "     (square y)))"
   ]
  },
  {
   "cell_type": "code",
   "execution_count": null,
   "metadata": {},
   "outputs": [],
   "source": [
    "(sum-of-squares 3 4)"
   ]
  },
  {
   "cell_type": "code",
   "execution_count": null,
   "metadata": {
    "collapsed": true
   },
   "outputs": [],
   "source": [
    "(define (f a) \n",
    "  (sum-of-squares \n",
    "   (+ a 1) \n",
    "   (* a 2)))"
   ]
  },
  {
   "cell_type": "code",
   "execution_count": null,
   "metadata": {},
   "outputs": [],
   "source": [
    "(f 5)"
   ]
  },
  {
   "cell_type": "markdown",
   "metadata": {},
   "source": [
    "### The Substitution Model for Procedure Application"
   ]
  },
  {
   "cell_type": "markdown",
   "metadata": {},
   "source": [
    "For compound procedures, the application process is as follows:\n",
    "\n",
    ">To apply a compound procedure to arguments, evaluate the body of the procedure with each formal parameter replaced by the corresponding argument."
   ]
  },
  {
   "cell_type": "markdown",
   "metadata": {},
   "source": [
    "**substitution model - 替换模型**\n",
    "\n",
    "**模型1（应用序 - applicative-order）：**\n",
    "\n",
    "    `(f 5)`\n",
    "\n",
    "    retrieving the body of f:\n",
    "\n",
    "    `(sum-of-squares (+ a 1) (* a 2))`\n",
    "\n",
    "    replace the formal parameter a by the argument 5:\n",
    "\n",
    "    `(sum-of-squares (+ 5 1) (* 5 2))`"
   ]
  },
  {
   "cell_type": "markdown",
   "metadata": {},
   "source": [
    "\n",
    "从最简单的模型开始，逐渐构筑出复杂的模型。\n",
    "> In general, when modeling phenomena in science and engineering, we begin with simplified, incomplete models.As we examine things in greater detail, these simple models be- come inadequate and must be replaced by more refined models\n"
   ]
  },
  {
   "cell_type": "markdown",
   "metadata": {},
   "source": [
    "**Applicative order versus normal order - 应用序和正则序**\n",
    "\n",
    "**模型2（正则序 - normal-order）：**\n",
    "\n",
    "    `(sum-of-squares (+ 5 1) (* 5 2))`\n",
    "\n",
    "    `(+ (square (+ 5 1)) (square (* 5 2)) )`\n",
    "\n",
    "    `(+ (* (+ 5 1) (+ 5 1)) (* (* 5 2) (* 5 2)))`"
   ]
  },
  {
   "cell_type": "markdown",
   "metadata": {},
   "source": [
    "- **应用序 - applicative-order**: 先求值参数而后应用/evaluate the arguments and then apply\n",
    "- **正则序 - normal-order**:完全展开而后归约/fully expand and then reduce"
   ]
  },
  {
   "cell_type": "markdown",
   "metadata": {},
   "source": [
    "**Lisp**使用的是**应用序**，原因：\n",
    "- 应用序避免了表达式的重复求值\n",
    "- 在超出了采用替换方式模拟的范围后，正则序会变得复杂很多"
   ]
  },
  {
   "cell_type": "markdown",
   "metadata": {},
   "source": [
    "### Conditional Expressions and Predicates"
   ]
  },
  {
   "cell_type": "markdown",
   "metadata": {},
   "source": [
    "<img src=\"https://ws3.sinaimg.cn/large/006tKfTcgy1frqu221hskj30as052q30.jpg\" width=\"30%\" />"
   ]
  },
  {
   "cell_type": "code",
   "execution_count": null,
   "metadata": {
    "collapsed": true
   },
   "outputs": [],
   "source": [
    ";; abs 1\n",
    "(define (abs x)\n",
    "  (cond ((> x 0) x)\n",
    "        ((= x 0) x)\n",
    "        ((< x 0) (- x))))"
   ]
  },
  {
   "cell_type": "code",
   "execution_count": null,
   "metadata": {},
   "outputs": [],
   "source": [
    "(abs -10)"
   ]
  },
  {
   "cell_type": "markdown",
   "metadata": {},
   "source": [
    "Conditional Expressions generate form:\n",
    "\n",
    "    (cond   (⟨p1⟩ ⟨e1⟩) \n",
    "            (⟨p2⟩ ⟨e2⟩) \n",
    "            . . .\n",
    "            (⟨pn⟩ ⟨en⟩))\n",
    "            \n",
    "*clauses - 分句*:(⟨p⟩ ⟨e⟩)\n",
    "\n",
    "*predicate - 断言*:⟨p⟩"
   ]
  },
  {
   "cell_type": "code",
   "execution_count": null,
   "metadata": {
    "collapsed": true
   },
   "outputs": [],
   "source": [
    ";; abs 2\n",
    "(define (abs x)\n",
    "  (cond ((< x 0) (- x))\n",
    "        (else x)))"
   ]
  },
  {
   "cell_type": "code",
   "execution_count": null,
   "metadata": {},
   "outputs": [],
   "source": [
    "(abs -5)"
   ]
  },
  {
   "cell_type": "code",
   "execution_count": null,
   "metadata": {
    "collapsed": true
   },
   "outputs": [],
   "source": [
    ";; abs 3\n",
    "(define (abs x)\n",
    "  (if (< x 0) (- x) x))"
   ]
  },
  {
   "cell_type": "code",
   "execution_count": null,
   "metadata": {},
   "outputs": [],
   "source": [
    "(abs -20)"
   ]
  },
  {
   "cell_type": "markdown",
   "metadata": {},
   "source": [
    "if expression general form:\n",
    "\n",
    "    (if ⟨predicate⟩ ⟨consequent⟩ ⟨alternative⟩)"
   ]
  },
  {
   "cell_type": "markdown",
   "metadata": {},
   "source": [
    "**logical composition operations**\n",
    "\n",
    "    (and ⟨e1⟩ . . . ⟨en⟩)\n",
    "    (or ⟨e1⟩ . . . ⟨en⟩)\n",
    "    (not ⟨e⟩)"
   ]
  },
  {
   "cell_type": "code",
   "execution_count": null,
   "metadata": {
    "collapsed": true
   },
   "outputs": [],
   "source": [
    ";; (and (> x 5) (< x 10))"
   ]
  },
  {
   "cell_type": "code",
   "execution_count": null,
   "metadata": {
    "collapsed": true
   },
   "outputs": [],
   "source": [
    "(define (>= x y) (or (> x y) (= x y)))"
   ]
  },
  {
   "cell_type": "code",
   "execution_count": null,
   "metadata": {
    "collapsed": true
   },
   "outputs": [],
   "source": [
    "(define (>= x y) (not (< x y)))"
   ]
  },
  {
   "cell_type": "code",
   "execution_count": null,
   "metadata": {},
   "outputs": [],
   "source": [
    "(>= 1 0)"
   ]
  },
  {
   "cell_type": "markdown",
   "metadata": {},
   "source": [
    "#### Ex1.1"
   ]
  },
  {
   "cell_type": "markdown",
   "metadata": {},
   "source": [
    "Below is a sequence of expressions. What is the result printed by the interpreter in response to each expression? Assume that the sequence is to be evaluated in the order in which it is presented.\n",
    "\n",
    "<img src=\"https://ws3.sinaimg.cn/large/006tKfTcgy1frqw760k7tj30eg0qggn8.jpg\" width=\"30%\" />"
   ]
  },
  {
   "cell_type": "code",
   "execution_count": null,
   "metadata": {},
   "outputs": [],
   "source": [
    "10"
   ]
  },
  {
   "cell_type": "code",
   "execution_count": null,
   "metadata": {},
   "outputs": [],
   "source": [
    "(+ 5 3 4)"
   ]
  },
  {
   "cell_type": "code",
   "execution_count": null,
   "metadata": {},
   "outputs": [],
   "source": [
    "(- 9 1)"
   ]
  },
  {
   "cell_type": "code",
   "execution_count": null,
   "metadata": {},
   "outputs": [],
   "source": [
    "(/ 6 2)"
   ]
  },
  {
   "cell_type": "code",
   "execution_count": null,
   "metadata": {},
   "outputs": [],
   "source": [
    "(+ (* 2 4) (- 4 6))"
   ]
  },
  {
   "cell_type": "code",
   "execution_count": null,
   "metadata": {
    "collapsed": true
   },
   "outputs": [],
   "source": [
    "(define a 3)"
   ]
  },
  {
   "cell_type": "code",
   "execution_count": null,
   "metadata": {
    "collapsed": true
   },
   "outputs": [],
   "source": [
    "(define b (+ a 1))"
   ]
  },
  {
   "cell_type": "code",
   "execution_count": null,
   "metadata": {},
   "outputs": [],
   "source": [
    "(+ a b (* a b))"
   ]
  },
  {
   "cell_type": "code",
   "execution_count": null,
   "metadata": {},
   "outputs": [],
   "source": [
    "(= a b)"
   ]
  },
  {
   "cell_type": "code",
   "execution_count": null,
   "metadata": {},
   "outputs": [],
   "source": [
    "(if (and \n",
    "     (> b a) \n",
    "     (< b (* a b))) \n",
    "    b \n",
    "    a)"
   ]
  },
  {
   "cell_type": "code",
   "execution_count": null,
   "metadata": {},
   "outputs": [],
   "source": [
    "(cond ((= a 4) 6) \n",
    "      ((= b 4) \n",
    "       (+ 6 7 a)) \n",
    "      (else 25))"
   ]
  },
  {
   "cell_type": "code",
   "execution_count": null,
   "metadata": {},
   "outputs": [],
   "source": [
    "(+ 2 (if (> b a) b a))"
   ]
  },
  {
   "cell_type": "code",
   "execution_count": null,
   "metadata": {},
   "outputs": [],
   "source": [
    "(* (cond ((> a b) a) ((< a b) b) (else -1)) (+ a 1))"
   ]
  },
  {
   "cell_type": "markdown",
   "metadata": {},
   "source": [
    "#### Ex1.2"
   ]
  },
  {
   "cell_type": "markdown",
   "metadata": {},
   "source": [
    "Translate the following expression into prefix form:\n",
    "$$\\frac{ 5 + 4 + (2 - (3 - (6 + \\frac{4}{5})))}{3(6 - 2)(2 - 7)}$$"
   ]
  },
  {
   "cell_type": "code",
   "execution_count": null,
   "metadata": {},
   "outputs": [],
   "source": [
    "(/ (+ 5 4 (- 2 (- 3 (+ 6 (/ 4 5)))))\n",
    "   (* 3 (- 6 2) (- 2 7)))"
   ]
  },
  {
   "cell_type": "markdown",
   "metadata": {},
   "source": [
    "#### Ex1.3\n",
    "\n",
    "Define a procedure that takes three numbers as arguments and returns the sum of the squares of the two larger numbers"
   ]
  },
  {
   "cell_type": "code",
   "execution_count": null,
   "metadata": {
    "collapsed": true
   },
   "outputs": [],
   "source": [
    "(define (sum-square-of-two-large a b c)\n",
    "  (cond ((and (<= a b) (<= a c)) (sum-of-squares b c))\n",
    "        ((and (<= b a) (<= b c)) (sum-of-squares a c))\n",
    "        (else (sum-of-squares a b))))"
   ]
  },
  {
   "cell_type": "code",
   "execution_count": null,
   "metadata": {},
   "outputs": [],
   "source": [
    "(sum-square-of-two-large  1 2 3 )"
   ]
  },
  {
   "cell_type": "code",
   "execution_count": null,
   "metadata": {},
   "outputs": [],
   "source": [
    "(sum-square-of-two-large  2 3 1 )"
   ]
  },
  {
   "cell_type": "code",
   "execution_count": null,
   "metadata": {},
   "outputs": [],
   "source": [
    "(sum-square-of-two-large  3 2 1 )"
   ]
  },
  {
   "cell_type": "code",
   "execution_count": null,
   "metadata": {},
   "outputs": [],
   "source": [
    "(sum-square-of-two-large  1 2 1 )"
   ]
  },
  {
   "cell_type": "markdown",
   "metadata": {},
   "source": [
    "#### Ex1.4\n",
    "\n",
    "Observe that our model of evaluation allows for combinations whose operators are compound expressions. Use this observation to describe the behavior of the following procedure:\n",
    "\n",
    "`(define (a-plus-abs-b a b) ((if (> b 0) + -) a b))`"
   ]
  },
  {
   "cell_type": "code",
   "execution_count": null,
   "metadata": {
    "collapsed": true
   },
   "outputs": [],
   "source": [
    "(define (a-plus-abs-b a b) \n",
    "  ((if (> b 0) + -) \n",
    "       a \n",
    "       b))"
   ]
  },
  {
   "cell_type": "code",
   "execution_count": null,
   "metadata": {},
   "outputs": [],
   "source": [
    "(a-plus-abs-b 1 2)"
   ]
  },
  {
   "cell_type": "code",
   "execution_count": null,
   "metadata": {},
   "outputs": [],
   "source": [
    "(a-plus-abs-b 1 -2)"
   ]
  },
  {
   "cell_type": "markdown",
   "metadata": {},
   "source": [
    "    (1 2)\n",
    "\n",
    "    ((if (> 2 0) + -) 1 2)\n",
    "\n",
    "    (+ 1 2)\n",
    "\n",
    "    3"
   ]
  },
  {
   "cell_type": "markdown",
   "metadata": {},
   "source": [
    "#### Ex1.5\n",
    "\n",
    "Ben Bitdiddle has invented a test to determine whether the interpreter he is faced with is using applicative-order evaluation or normal-order evaluation. He defines the following two procedures:\n",
    "\n",
    "    (define (p) (p)) \n",
    "    (define (test x y) (if (= x 0) 0 y))\n",
    "    \n",
    "Then he evaluates the expression\n",
    "\n",
    "    (test 0 (p))\n",
    "    \n",
    "What behavior will Ben observe with an interpreter that uses applicative-order evaluation? What behavior will he observe with an interpreter that uses normal-order evaluation? Explain your answer. (Assume that the evaluation rule for the special form if is the same whether the interpreter is using normal or applicative order: The predicate expression is evaluated first, and the result determines whether to evaluate the consequent or the alternative expression.)"
   ]
  },
  {
   "cell_type": "markdown",
   "metadata": {},
   "source": [
    "normal-order:\n",
    "    \n",
    "    (test 0 (p))\n",
    "    (if (= 0 0) 0 (p))\n",
    "    (if #t 0 (p))\n",
    "    0\n",
    "    ..."
   ]
  },
  {
   "cell_type": "markdown",
   "metadata": {},
   "source": [
    "applicative-order:\n",
    "\n",
    "    (test 0 (p))\n",
    "    (if (= 0 0) 0 (p))\n",
    "    (if (= 0 0) 0 ((p)))\n",
    "    (if (= 0 0) 0 (((p))))\n",
    "    ..."
   ]
  },
  {
   "cell_type": "code",
   "execution_count": null,
   "metadata": {
    "collapsed": true
   },
   "outputs": [],
   "source": [
    "(define (p) (p))\n",
    "(define (test x y) (if (= x 0) 0 y))"
   ]
  },
  {
   "cell_type": "code",
   "execution_count": null,
   "metadata": {
    "collapsed": true
   },
   "outputs": [],
   "source": [
    ";; (test 0 (p))"
   ]
  },
  {
   "cell_type": "markdown",
   "metadata": {
    "collapsed": true
   },
   "source": [
    "### Example: Square Roots by Newton’s Method "
   ]
  },
  {
   "cell_type": "markdown",
   "metadata": {},
   "source": [
    "square-root function:\n",
    "$$ \\sqrt{x} = the\\ y \\ such\\ that\\ y \\geqslant 0\\ and\\ y^2 =x$$"
   ]
  },
  {
   "cell_type": "markdown",
   "metadata": {},
   "source": [
    "not help matters:\n",
    "\n",
    "    (define (sqrt x) \n",
    "        (the y (and (>= y 0) \n",
    "        (= (square y) x))))"
   ]
  },
  {
   "cell_type": "markdown",
   "metadata": {},
   "source": [
    "**Newton's Method**\n",
    "\n",
    "![image-20180601231808241](https://ws3.sinaimg.cn/large/006tNc79ly1frw374smbmj30qo058aai.jpg)"
   ]
  },
  {
   "cell_type": "code",
   "execution_count": null,
   "metadata": {
    "collapsed": true
   },
   "outputs": [],
   "source": [
    "(define (sqrt-iter guess x)\n",
    "  (if (good-enough? guess x)\n",
    "      guess\n",
    "      (sqrt-iter (improve guess x) x)))"
   ]
  },
  {
   "cell_type": "code",
   "execution_count": null,
   "metadata": {
    "collapsed": true
   },
   "outputs": [],
   "source": [
    "(define (improve guess x)\n",
    "  (average guess (/ x guess)))"
   ]
  },
  {
   "cell_type": "code",
   "execution_count": null,
   "metadata": {
    "collapsed": true
   },
   "outputs": [],
   "source": [
    "(define (average x y)\n",
    "  (/ (+ x y) 2))"
   ]
  },
  {
   "cell_type": "code",
   "execution_count": null,
   "metadata": {
    "collapsed": true
   },
   "outputs": [],
   "source": [
    "(define (good-enough? guess x)\n",
    "  (< (abs (- (square guess) x)) 0.001))"
   ]
  },
  {
   "cell_type": "code",
   "execution_count": null,
   "metadata": {
    "collapsed": true
   },
   "outputs": [],
   "source": [
    "(define (sqrt x)\n",
    "  (sqrt-iter 1.0 x))\n",
    ";; 注意是1.0，而不是1，防止计算出有理数，而不是十进制"
   ]
  },
  {
   "cell_type": "code",
   "execution_count": null,
   "metadata": {},
   "outputs": [],
   "source": [
    "(sqrt 2)"
   ]
  },
  {
   "cell_type": "code",
   "execution_count": null,
   "metadata": {},
   "outputs": [],
   "source": [
    "(sqrt 9)"
   ]
  },
  {
   "cell_type": "code",
   "execution_count": null,
   "metadata": {},
   "outputs": [],
   "source": [
    "(square (sqrt 1000))"
   ]
  },
  {
   "cell_type": "markdown",
   "metadata": {},
   "source": [
    "神奇的是，一个循环都没有用到，就实现了sqrt！"
   ]
  },
  {
   "cell_type": "markdown",
   "metadata": {},
   "source": [
    "#### Ex1.6\n",
    "\n",
    "Alyssa P. Hacker doesn’t see why if needs to be provided as a special form. “Why can’t I just define it as an ordinary procedure in terms of cond?” she asks. Alyssa’s friend Eva Lu Ator claims this can indeed be done, and she defines a new version of if:"
   ]
  },
  {
   "cell_type": "code",
   "execution_count": null,
   "metadata": {
    "collapsed": true
   },
   "outputs": [],
   "source": [
    "(define (new-if predicate then-clause else-clause) \n",
    "  (cond (predicate then-clause) \n",
    "        (else else-clause)))"
   ]
  },
  {
   "cell_type": "markdown",
   "metadata": {},
   "source": [
    "Eva demonstrates the program for Alyssa"
   ]
  },
  {
   "cell_type": "code",
   "execution_count": null,
   "metadata": {},
   "outputs": [],
   "source": [
    "(new-if (= 2 3) 0 5)"
   ]
  },
  {
   "cell_type": "code",
   "execution_count": null,
   "metadata": {},
   "outputs": [],
   "source": [
    "(new-if (= 1 1) 0 5)"
   ]
  },
  {
   "cell_type": "markdown",
   "metadata": {},
   "source": [
    "Delighted, Alyssa uses new-if to rewrite the square-root program:\n",
    "\n",
    "```\n",
    "(define (sqrt-iter guess x) \n",
    "  (new-if (good-enough? guess x) \n",
    "          guess \n",
    "          (sqrt-iter (improve guess x) x)))\n",
    "```"
   ]
  },
  {
   "cell_type": "markdown",
   "metadata": {},
   "source": [
    "What happens when Alyssa attempts to use this to compute square roots? Explain."
   ]
  },
  {
   "cell_type": "code",
   "execution_count": null,
   "metadata": {
    "collapsed": true
   },
   "outputs": [],
   "source": [
    ";; (define (sqrt-iter guess x) \n",
    ";;   (new-if (good-enough? guess x) \n",
    ";;           guess \n",
    ";;           (sqrt-iter (improve guess x) x)))\n",
    ";; (sqrt 3) can't be stopped"
   ]
  },
  {
   "cell_type": "markdown",
   "metadata": {},
   "source": [
    "Aborting!: maximum recursion depth exceeded\n",
    "\n",
    "I believe this solution is incorrect.\n",
    "new-if does not use normal order evaluation, it uses applicative order evaluation. That is, the interpreter first evaluates the operator and operands and then applies the resulting procedure to the resulting arguments. As with Excercise 1.5, this results in an infinite recursion because the else-clause is always evaluated, thus calling the procedure again ad infinitum.\n",
    "\n",
    "The if statement is a special form and behaves differently. if first evalutes the predictate, and then evaluates either the consequent (if the predicate evalutes to #t) or the alternative (if the predicate evalues to #f). This is key difference from new-if -- **only one** of the two consequent expressions get evaluated when using **if**, while **both** of the consequent expressions get evaluated with **new-if**."
   ]
  },
  {
   "cell_type": "markdown",
   "metadata": {},
   "source": [
    "#### Ex1.7\n",
    "\n",
    "The good-enough? test used in computing square roots will not be very effective for finding the square roots of very small numbers. Also, in real computers, arithmetic operations are almost always performed with limited precision. This makes our test inadequate for very large numbers. Explain these statements, with examples showing how the test fails for small and large numbers. An alternative strategy for implementing good-enough? is to watch how guess changes from one iteration to the next and to stop when the change is a very small fraction of the guess.\n",
    "Design a square-root procedure that uses this kind of end test. Does this work better for small and large numbers?"
   ]
  },
  {
   "cell_type": "code",
   "execution_count": null,
   "metadata": {
    "collapsed": true
   },
   "outputs": [],
   "source": [
    ";; (sqrt 10000000000000)\n",
    ";; spend a lot of time!"
   ]
  },
  {
   "cell_type": "code",
   "execution_count": null,
   "metadata": {
    "collapsed": true
   },
   "outputs": [],
   "source": [
    "(define (good-enough? guess x)\n",
    "  (< (abs (/ (- (improve guess x) guess) guess)) 0.00001))"
   ]
  },
  {
   "cell_type": "code",
   "execution_count": null,
   "metadata": {},
   "outputs": [],
   "source": [
    "(sqrt 10000000000000)"
   ]
  },
  {
   "cell_type": "code",
   "execution_count": null,
   "metadata": {},
   "outputs": [],
   "source": [
    "(sqrt 100)"
   ]
  },
  {
   "cell_type": "markdown",
   "metadata": {},
   "source": [
    "#### Ex1.8\n",
    "\n",
    "Newton’s method for cube roots is based on the fact that if y is an approximation to the cube root of x, then a better approximation is given by the value\n",
    "\n",
    "$$\n",
    "\\frac { x / y ^ { 2} + 2y } { 3}\n",
    "$$\n",
    "\n",
    "Use this formula to implement a cube-root procedure analogous to the square-root procedure. (In Section 1.3.4 we will see how to implement Newton’s method in general as an abstraction of these square-root and cube-root procedures.)"
   ]
  },
  {
   "cell_type": "code",
   "execution_count": null,
   "metadata": {
    "collapsed": true
   },
   "outputs": [],
   "source": [
    "(define (cube-root x)\n",
    "  (cube-iter 1.0 x))"
   ]
  },
  {
   "cell_type": "code",
   "execution_count": null,
   "metadata": {
    "collapsed": true
   },
   "outputs": [],
   "source": [
    "(define (cube-iter guess x)\n",
    "  (if (cube-good-enough? guess x)\n",
    "      guess\n",
    "      (cube-iter (cube-improve guess x) x)))"
   ]
  },
  {
   "cell_type": "code",
   "execution_count": null,
   "metadata": {
    "collapsed": true
   },
   "outputs": [],
   "source": [
    "(define (cube-good-enough? guess x)\n",
    "  (< (abs (/ (- (cube-improve guess x) guess) guess)) 0.00001))"
   ]
  },
  {
   "cell_type": "code",
   "execution_count": null,
   "metadata": {
    "collapsed": true
   },
   "outputs": [],
   "source": [
    "(define (cube-improve guess x)\n",
    "  (/ (+ (/ x (square guess)) (* 2 guess)) 3))"
   ]
  },
  {
   "cell_type": "code",
   "execution_count": null,
   "metadata": {},
   "outputs": [],
   "source": [
    "(cube-root 27)"
   ]
  },
  {
   "cell_type": "markdown",
   "metadata": {},
   "source": [
    "### Procedures as Black-Box Abstractions"
   ]
  },
  {
   "cell_type": "markdown",
   "metadata": {
    "collapsed": true
   },
   "source": [
    "**Procedural decomposition of the sqrt program**\n",
    "<img src=\"https://ws2.sinaimg.cn/large/006tNc79gy1fs04stx74cj30e008qjrt.jpg\" width=\"30%\" />"
   ]
  },
  {
   "cell_type": "markdown",
   "metadata": {},
   "source": [
    "procedural abstraction/过程抽象\n",
    "\n",
    "    使用者不关心该过程实现的细节，只关心结果。程序员将该过程当作黑箱使用它。"
   ]
  },
  {
   "cell_type": "code",
   "execution_count": null,
   "metadata": {
    "collapsed": true
   },
   "outputs": [],
   "source": [
    "(define (square x) (* x x)) \n",
    ";; (define (square x) (exp (double (log x)))) \n",
    "(define (double x) (+ x x))"
   ]
  },
  {
   "cell_type": "code",
   "execution_count": null,
   "metadata": {},
   "outputs": [],
   "source": [
    "(square 2)"
   ]
  },
  {
   "cell_type": "markdown",
   "metadata": {},
   "source": [
    "**Local names**"
   ]
  },
  {
   "cell_type": "markdown",
   "metadata": {},
   "source": [
    "如下2个函数等效\n",
    "\n",
    "    (define (square x) (* x x)) \n",
    "    (define (square y) (* y y))\n"
   ]
  },
  {
   "cell_type": "markdown",
   "metadata": {},
   "source": [
    "- bound variable 约束变量：guess x\n",
    "- free variable 自由变量：good-enough?,-,abs\n",
    "\n",
    "    ```\n",
    "    (define (good-enough? guess x) \n",
    "      (< (abs (- (square guess) x)) 0.001))\n",
    "     ```"
   ]
  },
  {
   "cell_type": "markdown",
   "metadata": {},
   "source": [
    "The set of expressions for which a binding defines a name is called the **scope(作用域)** of that name"
   ]
  },
  {
   "cell_type": "markdown",
   "metadata": {},
   "source": [
    "**Internal definitions and block structure**"
   ]
  },
  {
   "cell_type": "markdown",
   "metadata": {},
   "source": [
    "相关函数封装到一个block中"
   ]
  },
  {
   "cell_type": "code",
   "execution_count": null,
   "metadata": {
    "collapsed": true
   },
   "outputs": [],
   "source": [
    "(define (sqrt x) \n",
    "    (define (good-enough? guess x) \n",
    "        (< (abs (- (square guess) x)) 0.001)) \n",
    "    (define (improve guess x) \n",
    "        (average guess (/ x guess))) \n",
    "    (define (sqrt-iter guess x) \n",
    "        (if (good-enough? guess x) \n",
    "            guess \n",
    "            (sqrt-iter (improve guess x) x))) \n",
    "    (sqrt-iter 1.0 x)\n",
    ")"
   ]
  },
  {
   "cell_type": "markdown",
   "metadata": {},
   "source": [
    "x作用于整个sqrt中，就没必要在内部函数中传递来传递去了\n",
    "\n",
    "The x gets its value from the argument with which the enclosing procedure sqrt is called. This discipline is called **lexical scoping**(词法作用域)."
   ]
  },
  {
   "cell_type": "code",
   "execution_count": null,
   "metadata": {
    "collapsed": true
   },
   "outputs": [],
   "source": [
    "(define (sqrt x) \n",
    "    (define (good-enough? guess) \n",
    "        (< (abs (- (square guess) x)) 0.001)) \n",
    "    (define (improve guess)\n",
    "        (average guess (/ x guess))) \n",
    "    (define (sqrt-iter guess) \n",
    "        (if (good-enough? guess) \n",
    "            guess \n",
    "            (sqrt-iter (improve guess)))) \n",
    "    (sqrt-iter 1.0))"
   ]
  },
  {
   "cell_type": "markdown",
   "metadata": {},
   "source": [
    "## Procedures and the Processes They Generate"
   ]
  },
  {
   "cell_type": "markdown",
   "metadata": {},
   "source": [
    "A procedure is a pattern for the **local evolution** of a computational process."
   ]
  },
  {
   "cell_type": "markdown",
   "metadata": {},
   "source": [
    "### Linear Recursion and Iteration"
   ]
  },
  {
   "cell_type": "markdown",
   "metadata": {},
   "source": [
    "factorial function:\n",
    "$$\n",
    "n ! = n \\cdot ( n - 1) \\cdot ( n - 2) \\cdots 3\\cdot 2\\cdot 1\n",
    "$$\n",
    "There are many ways to compute factorials. One way is to make use of the observation that n! is equal to n times (n − 1)! for any positive integer n:\n",
    "$$\n",
    "n ! = n \\cdot [ ( n - 1) \\cdot ( n - 2) \\cdots 3\\cdot 2\\cdot 1] = n \\cdot ( n - 1) !\n",
    "$$\n",
    "\n",
    "**recursive process/递归计算过程**:"
   ]
  },
  {
   "cell_type": "code",
   "execution_count": null,
   "metadata": {
    "collapsed": true
   },
   "outputs": [],
   "source": [
    "(define (factorial n)\n",
    "  (if (= n 1)\n",
    "      1\n",
    "      (* n (factorial (- n 1)))))"
   ]
  },
  {
   "cell_type": "code",
   "execution_count": null,
   "metadata": {},
   "outputs": [],
   "source": [
    "(factorial 5)"
   ]
  },
  {
   "cell_type": "markdown",
   "metadata": {},
   "source": [
    "**A linear recursive process for computing 6!**\n",
    "<img src=\"https://ws2.sinaimg.cn/large/006tKfTcgy1fs1b8ssgxjj30li0dggn4.jpg\" width=\"50%\" />\n",
    "\n",
    "other method:\n",
    "    \n",
    "    product ← counter * product \n",
    "    counter ← counter + 1\n",
    "    \n",
    "**A linear iterative process for computing 6!**\n",
    "<img src=\"https://ws2.sinaimg.cn/large/006tKfTcgy1fs1bc47fozj30cg0au3z9.jpg\" width=\"30%\" />\n",
    "\n",
    "**linear recursive process/线性递归过程:**"
   ]
  },
  {
   "cell_type": "code",
   "execution_count": null,
   "metadata": {
    "collapsed": true
   },
   "outputs": [],
   "source": [
    "(define (factorial n)\n",
    "  (define (iter product counter)\n",
    "    (if (> counter n)\n",
    "        product\n",
    "        (iter (* product counter) \n",
    "              (+ counter 1))))\n",
    "  (iter 1 1))"
   ]
  },
  {
   "cell_type": "code",
   "execution_count": null,
   "metadata": {},
   "outputs": [],
   "source": [
    "(factorial 6)"
   ]
  },
  {
   "cell_type": "markdown",
   "metadata": {},
   "source": [
    "**tail-recursive/尾递归**:使得scheme能够在常量空间里进行递归运算。"
   ]
  },
  {
   "cell_type": "markdown",
   "metadata": {
    "collapsed": true
   },
   "source": [
    "#### Ex1.9\n",
    "Each of the following two procedures defines a method for adding two positive integers in terms of the procedures inc, which increments its argument by 1, and dec, which decrements its argument by 1.\n",
    "\n",
    "    (define (+ a b) \n",
    "      (if (= a 0) \n",
    "          b \n",
    "          (inc (+ (dec a) b)))) \n",
    "    (define (+ a b) \n",
    "      (if (= a 0) \n",
    "          b \n",
    "          (+ (dec a) (inc b))))\n",
    "\n",
    "Using the substitution model, illustrate the process generated by each procedure in evaluating (+ 4 5). Are these processes iterative or recursive?"
   ]
  },
  {
   "cell_type": "markdown",
   "metadata": {},
   "source": [
    "**my solution**"
   ]
  },
  {
   "cell_type": "markdown",
   "metadata": {},
   "source": [
    "procedure 1:\n",
    "\n",
    "    (inc (+ (dec 4) 5)\n",
    "    (inc (+ 3 5)\n",
    "    (inc (inc (+ (dec 3) 5 ) ) )\n",
    "    (inc (inc (+ 2 5 )))\n",
    "    (inc (inc (inc (+ (dec 2) 5))))\n",
    "    (inc (inc (inc (+ 1 5 ))))\n",
    "    (inc (inc (inc (inc (+ (dec 1) 5 )))))\n",
    "    (inc (inc (inc (inc (+ 0 5 )))))\n",
    "    (inc (inc (inc (inc 5 ))))\n",
    "    (inc (inc (inc 6)))\n",
    "    (inc (inc 7))\n",
    "    (inc 8)\n",
    "    9\n",
    "It's iterative process.\n",
    "\n",
    "\n",
    "procedure 2:\n",
    "\n",
    "    (+ 4 5)\n",
    "    (+ (dec 4) (inc 5))\n",
    "    (+ 3 6)\n",
    "    (+ (dec 3) (inc 6))\n",
    "    (+ 2 7)\n",
    "    (+ (dec 2) (inc 7))\n",
    "    (+ 1 8)\n",
    "    (+ (dec 1) (inc 8))\n",
    "    (+ 0 9)\n",
    "    9\n",
    "It's recursive process."
   ]
  },
  {
   "cell_type": "markdown",
   "metadata": {},
   "source": [
    "#### Ex1.10\n",
    "The following procedure computes a mathematical function called Ackermann’s function."
   ]
  },
  {
   "cell_type": "code",
   "execution_count": 161,
   "metadata": {
    "collapsed": true
   },
   "outputs": [],
   "source": [
    "(define (A x y) \n",
    "  (cond ((= y 0) 0) \n",
    "        ((= x 0) (* 2 y)) ((= y 1) 2) \n",
    "        (else (A (- x 1) (A x (- y 1))))))"
   ]
  },
  {
   "cell_type": "code",
   "execution_count": 162,
   "metadata": {},
   "outputs": [
    {
     "data": {
      "text/plain": [
       "1024"
      ]
     },
     "execution_count": 162,
     "metadata": {},
     "output_type": "execute_result"
    }
   ],
   "source": [
    "(A 1 10)"
   ]
  },
  {
   "cell_type": "code",
   "execution_count": 163,
   "metadata": {},
   "outputs": [
    {
     "data": {
      "text/plain": [
       "65536"
      ]
     },
     "execution_count": 163,
     "metadata": {},
     "output_type": "execute_result"
    }
   ],
   "source": [
    "(A 2 4)"
   ]
  },
  {
   "cell_type": "code",
   "execution_count": 164,
   "metadata": {},
   "outputs": [
    {
     "data": {
      "text/plain": [
       "65536"
      ]
     },
     "execution_count": 164,
     "metadata": {},
     "output_type": "execute_result"
    }
   ],
   "source": [
    "(A 3 3)"
   ]
  },
  {
   "cell_type": "markdown",
   "metadata": {},
   "source": [
    "Consider the following procedures, where A is the procedure defined above:"
   ]
  },
  {
   "cell_type": "code",
   "execution_count": 165,
   "metadata": {
    "collapsed": true
   },
   "outputs": [],
   "source": [
    "(define (f n) (A 0 n)) \n",
    "(define (g n) (A 1 n)) \n",
    "(define (h n) (A 2 n)) \n",
    "(define (k n) (* 5 n n))"
   ]
  },
  {
   "cell_type": "markdown",
   "metadata": {},
   "source": [
    "Give concise mathematical definitions for the functions computed by the procedures f, g, and h for positive integer values of n. For example, (k n) computes 5n2."
   ]
  },
  {
   "cell_type": "code",
   "execution_count": null,
   "metadata": {
    "collapsed": true
   },
   "outputs": [],
   "source": []
  }
 ],
 "metadata": {
  "kernelspec": {
   "display_name": "Calysto Scheme 3",
   "language": "scheme",
   "name": "calysto_scheme"
  },
  "language_info": {
   "codemirror_mode": {
    "name": "scheme"
   },
   "mimetype": "text/x-scheme",
   "name": "scheme",
   "pygments_lexer": "scheme"
  },
  "toc": {
   "nav_menu": {},
   "number_sections": true,
   "sideBar": true,
   "skip_h1_title": false,
   "title_cell": "Table of Contents",
   "title_sidebar": "Contents",
   "toc_cell": false,
   "toc_position": {
    "height": "calc(100% - 180px)",
    "left": "10px",
    "top": "150px",
    "width": "189px"
   },
   "toc_section_display": true,
   "toc_window_display": true
  }
 },
 "nbformat": 4,
 "nbformat_minor": 2
}
